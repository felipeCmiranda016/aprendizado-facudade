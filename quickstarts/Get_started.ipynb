{
  "cells": [
    {
      "cell_type": "code",
      "source": [
        "x=10\n",
        "nome = 'aluno'\n",
        "nota =8.5\n",
        "fez_inscricao = True"
      ],
      "metadata": {
        "id": "UEOVhwkPozKT"
      },
      "execution_count": 2,
      "outputs": []
    },
    {
      "cell_type": "code",
      "source": [
        "print(type(x))"
      ],
      "metadata": {
        "id": "WElTbyRbql_v",
        "outputId": "528d5680-0763-41d5-c15c-601a2ec750e1",
        "colab": {
          "base_uri": "https://localhost:8080/"
        }
      },
      "execution_count": 3,
      "outputs": [
        {
          "output_type": "stream",
          "name": "stdout",
          "text": [
            "<class 'int'>\n"
          ]
        }
      ]
    },
    {
      "cell_type": "code",
      "source": [
        "print(type(nome))\n"
      ],
      "metadata": {
        "id": "IqlIj7nYrhBr",
        "outputId": "0be77541-4f96-4cf4-ae1d-9fdb971daef8",
        "colab": {
          "base_uri": "https://localhost:8080/"
        }
      },
      "execution_count": 4,
      "outputs": [
        {
          "output_type": "stream",
          "name": "stdout",
          "text": [
            "<class 'str'>\n"
          ]
        }
      ]
    },
    {
      "cell_type": "code",
      "source": [
        "print(type(nota))"
      ],
      "metadata": {
        "id": "ROwvlD6qrx4y",
        "outputId": "cd817b99-ea13-47d1-8b30-83509753a9ac",
        "colab": {
          "base_uri": "https://localhost:8080/"
        }
      },
      "execution_count": 5,
      "outputs": [
        {
          "output_type": "stream",
          "name": "stdout",
          "text": [
            "<class 'float'>\n"
          ]
        }
      ]
    },
    {
      "cell_type": "code",
      "source": [
        "print(type(fez_inscricao))"
      ],
      "metadata": {
        "id": "ZY_sph6Vr6HN",
        "outputId": "412c99d0-55a1-4cd5-e0e6-9c99a945130d",
        "colab": {
          "base_uri": "https://localhost:8080/"
        }
      },
      "execution_count": 6,
      "outputs": [
        {
          "output_type": "stream",
          "name": "stdout",
          "text": [
            "<class 'bool'>\n"
          ]
        }
      ]
    }
  ],
  "metadata": {
    "colab": {
      "name": "Get_started.ipynb",
      "toc_visible": true,
      "provenance": []
    },
    "kernelspec": {
      "display_name": "Python 3",
      "name": "python3"
    }
  },
  "nbformat": 4,
  "nbformat_minor": 0
}