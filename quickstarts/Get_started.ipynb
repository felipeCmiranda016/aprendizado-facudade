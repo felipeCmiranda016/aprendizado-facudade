{
  "cells": [],
  "metadata": {
    "colab": {
      "name": "Get_started.ipynb",
      "toc_visible": true,
      "provenance": []
    },
    "kernelspec": {
      "display_name": "Python 3",
      "name": "python3"
    }
  },
  "nbformat": 4,
  "nbformat_minor": 0
}